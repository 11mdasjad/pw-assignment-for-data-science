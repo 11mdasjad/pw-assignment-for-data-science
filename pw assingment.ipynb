{
 "cells": [
  {
   "cell_type": "markdown",
   "id": "d394b3d8",
   "metadata": {},
   "source": [
    "Q1. Create one variable containing following type of data:\n",
    "(i) string\n",
    "(ii) list\n",
    "(iii) float\n",
    "(iv) tuple"
   ]
  },
  {
   "cell_type": "code",
   "execution_count": 1,
   "id": "46f5e1ca",
   "metadata": {},
   "outputs": [],
   "source": [
    "A=\"asjad\"\n",
    "B=[1,2,3]\n",
    "C=1.8\n",
    "D=(1,2,3)\n"
   ]
  },
  {
   "cell_type": "code",
   "execution_count": 4,
   "id": "b15ebd7c",
   "metadata": {},
   "outputs": [
    {
     "name": "stdout",
     "output_type": "stream",
     "text": [
      "<class 'str'>\n",
      "<class 'list'>\n",
      "<class 'float'>\n",
      "<class 'tuple'>\n"
     ]
    }
   ],
   "source": [
    "print(type(A))\n",
    "print(type(B))\n",
    "print(type(C))\n",
    "print(type(D))"
   ]
  },
  {
   "cell_type": "markdown",
   "id": "ea62ace6",
   "metadata": {},
   "source": [
    "Q2. Given are some following variables containing data:\n",
    "(i) var1 = ‘ ‘\n",
    "(ii) var2 = ‘[ DS , ML , Python]’\n",
    "(iii) var3 = [ ‘DS’ , ’ML’ , ‘Python’ ]\n",
    "(iv) var4 = 1.\n",
    "What will be the data type of the above given variable."
   ]
  },
  {
   "cell_type": "markdown",
   "id": "f7eed73b",
   "metadata": {},
   "source": [
    "var1=single space character(string)\n",
    "var2=string()string\n",
    "var3=(list)\n",
    "var4=constant(constant)"
   ]
  },
  {
   "cell_type": "markdown",
   "id": "ebe5f5cd",
   "metadata": {},
   "source": [
    "Q3. Explain the use of the following operators using an example:\n",
    "(i) /\n",
    "(ii) %\n",
    "(iii) //\n",
    "(iv) **"
   ]
  },
  {
   "cell_type": "markdown",
   "id": "037cd764",
   "metadata": {},
   "source": [
    "(i) Division (/):\n",
    "The division operator (/) is used to perform division between two numbers.\n",
    "(ii)Modulus (%):\n",
    "The modulus operator (%) returns the remainder of the division of the left operand by the right operand.\n",
    "(iii)Floor Division (//):\n",
    "The floor division operator (//) performs division and rounds down to the nearest whole number.\n",
    "(iv) Exponentiation ():**\n",
    "The exponentiation operator (**) raises the left operand to the power of the right operand."
   ]
  },
  {
   "cell_type": "markdown",
   "id": "bc7f5369",
   "metadata": {},
   "source": [
    "Q4. Create a list of length 10 of your choice containing multiple types of data. Using for loop print the\n",
    "element and its data type."
   ]
  },
  {
   "cell_type": "code",
   "execution_count": 9,
   "id": "f1d606d5",
   "metadata": {},
   "outputs": [
    {
     "name": "stdout",
     "output_type": "stream",
     "text": [
      "Element: 1, Data Type: <class 'int'>\n",
      "Element: Hello, Data Type: <class 'str'>\n",
      "Element: 3.14, Data Type: <class 'float'>\n",
      "Element: True, Data Type: <class 'bool'>\n",
      "Element: [1, 2, 3], Data Type: <class 'list'>\n",
      "Element: {'key': 'value'}, Data Type: <class 'dict'>\n",
      "Element: (4, 5), Data Type: <class 'tuple'>\n",
      "Element: None, Data Type: <class 'NoneType'>\n",
      "Element: Python, Data Type: <class 'str'>\n",
      "Element: False, Data Type: <class 'bool'>\n"
     ]
    }
   ],
   "source": [
    "my_list = [1, 'Hello', 3.14, True, [1, 2, 3], {'key': 'value'}, (4, 5), None, 'Python', False]\n",
    "\n",
    "for element in my_list:\n",
    "    print(f\"Element: {element}, Data Type: {type(element)}\")\n"
   ]
  },
  {
   "cell_type": "markdown",
   "id": "763cf2fb",
   "metadata": {},
   "source": [
    "Q5. Using a while loop, verify if the number A is purely divisible by number B and if so then how many\n",
    "times it can be divisible."
   ]
  },
  {
   "cell_type": "code",
   "execution_count": 10,
   "id": "f385ab89",
   "metadata": {},
   "outputs": [
    {
     "name": "stdout",
     "output_type": "stream",
     "text": [
      "Enter the value of number A: 34\n",
      "Enter the value of number B: 2\n",
      "17.0 is purely divisible by 2. It can be divided 1 times.\n"
     ]
    }
   ],
   "source": [
    "# Taking user input for numbers A and B\n",
    "A = int(input(\"Enter the value of number A: \"))\n",
    "B = int(input(\"Enter the value of number B: \"))\n",
    "\n",
    "# Initialize a counter to keep track of the number of divisions\n",
    "divisions = 0\n",
    "\n",
    "# Use a while loop to check if A is divisible by B\n",
    "while A % B == 0:\n",
    "    A = A / B\n",
    "    divisions += 1\n",
    "\n",
    "# Print the result\n",
    "if divisions > 0:\n",
    "    print(f\"{A} is purely divisible by {B}. It can be divided {divisions} times.\")\n",
    "else:\n",
    "    print(f\"{A} is not purely divisible by {B}.\")\n"
   ]
  },
  {
   "cell_type": "markdown",
   "id": "7a938f50",
   "metadata": {},
   "source": [
    "Q6. Create a list containing 25 int type data. Using for loop and if-else condition print if the element is\n",
    "divisible by 3 or not."
   ]
  },
  {
   "cell_type": "code",
   "execution_count": 11,
   "id": "e0e0edd2",
   "metadata": {},
   "outputs": [
    {
     "name": "stdout",
     "output_type": "stream",
     "text": [
      "7 is not divisible by 3.\n",
      "12 is divisible by 3.\n",
      "15 is divisible by 3.\n",
      "18 is divisible by 3.\n",
      "22 is not divisible by 3.\n",
      "30 is divisible by 3.\n",
      "37 is not divisible by 3.\n",
      "42 is divisible by 3.\n",
      "45 is divisible by 3.\n",
      "50 is not divisible by 3.\n",
      "55 is not divisible by 3.\n",
      "60 is divisible by 3.\n",
      "65 is not divisible by 3.\n",
      "72 is divisible by 3.\n",
      "75 is divisible by 3.\n",
      "80 is not divisible by 3.\n",
      "85 is not divisible by 3.\n",
      "90 is divisible by 3.\n",
      "95 is not divisible by 3.\n",
      "100 is not divisible by 3.\n",
      "105 is divisible by 3.\n",
      "110 is not divisible by 3.\n",
      "115 is not divisible by 3.\n",
      "120 is divisible by 3.\n",
      "125 is not divisible by 3.\n"
     ]
    }
   ],
   "source": [
    "# Creating a list with 25 integers\n",
    "my_list = [7, 12, 15, 18, 22, 30, 37, 42, 45, 50, 55, 60, 65, 72, 75, 80, 85, 90, 95, 100, 105, 110, 115, 120, 125]\n",
    "\n",
    "# Using a for loop to iterate through the list\n",
    "for element in my_list:\n",
    "    # Checking if the element is divisible by 3\n",
    "    if element % 3 == 0:\n",
    "        print(f\"{element} is divisible by 3.\")\n",
    "    else:\n",
    "        print(f\"{element} is not divisible by 3.\")\n"
   ]
  },
  {
   "cell_type": "markdown",
   "id": "876da4ae",
   "metadata": {},
   "source": [
    "Q7. What do you understand about mutable and immutable data types? Give examples for both showing\n",
    "this property."
   ]
  },
  {
   "cell_type": "markdown",
   "id": "d1b0ce65",
   "metadata": {},
   "source": [
    "Mutable and immutable refer to the ability of an object (or data type) to be changed or modified after it is created.\n",
    "\n",
    "Immutable Data Types:\n",
    "Immutable objects cannot be modified after they are created. Any operation that appears to modify an immutable object actually creates a new object. Examples of immutable data types in Python include:\n",
    "\n",
    "Strings (str):\n",
    "Strings are sequences of characters and are immutable. Once a string is created, you cannot modify its individual characters.\n",
    "\n",
    "Example:\n",
    "\n",
    "python\n",
    "\n",
    "my_string = \"Hello\"\n",
    "# Trying to modify a character (will result in an error)\n",
    "# my_string[0] = 'h'  \n",
    "Tuples (tuple):\n",
    "Tuples are ordered, immutable collections. Once a tuple is created, you cannot add, remove, or change elements.\n",
    "\n",
    "Example:\n",
    "\n",
    "python\n",
    "\n",
    "my_tuple = (1, 2, 3)\n",
    "# Trying to modify a value (will result in an error)\n",
    "# my_tuple[0] = 4\n",
    "Mutable Data Types:\n",
    "Mutable objects can be modified after they are created. Changes made to the object directly affect the original object. Examples of mutable data types in Python include:\n",
    "\n",
    "Lists (list):\n",
    "Lists are ordered, mutable collections. You can add, remove, or change elements in a list after it is created.\n",
    "\n",
    "Example:\n",
    "\n",
    "python\n",
    "\n",
    "my_list = [1, 2, 3]\n",
    "# Modifying the list\n",
    "my_list[0] = 4\n",
    "print(my_list)  # Output: [4, 2, 3]\n",
    "Dictionaries (dict):\n",
    "Dictionaries are mutable, unordered collections of key-value pairs. You can add, remove, or modify key-value pairs in a dictionary.\n",
    "\n",
    "Example:\n",
    "\n",
    "python\n",
    "\n",
    "my_dict = {'name': 'John', 'age': 25}\n",
    "# Modifying the dictionary\n",
    "my_dict['age'] = 26\n",
    "print(my_dict)  # Output: {'name': 'John', 'age': 26}\n",
    "Understanding whether a data type is mutable or immutable is essential for programming, as it affects how you manipulate and interact with data in your code.\n",
    "\n",
    "\n",
    "\n",
    "\n",
    "\n"
   ]
  },
  {
   "cell_type": "code",
   "execution_count": null,
   "id": "21bb7ada",
   "metadata": {},
   "outputs": [],
   "source": []
  }
 ],
 "metadata": {
  "kernelspec": {
   "display_name": "Python 3 (ipykernel)",
   "language": "python",
   "name": "python3"
  },
  "language_info": {
   "codemirror_mode": {
    "name": "ipython",
    "version": 3
   },
   "file_extension": ".py",
   "mimetype": "text/x-python",
   "name": "python",
   "nbconvert_exporter": "python",
   "pygments_lexer": "ipython3",
   "version": "3.11.5"
  }
 },
 "nbformat": 4,
 "nbformat_minor": 5
}
